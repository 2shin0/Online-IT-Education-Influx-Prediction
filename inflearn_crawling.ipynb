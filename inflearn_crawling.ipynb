{
 "cells": [
  {
   "cell_type": "code",
   "execution_count": 1,
   "id": "423d96b3",
   "metadata": {},
   "outputs": [],
   "source": [
    "from selenium import webdriver\n",
    "from selenium.webdriver.common.by import By\n",
    "from selenium.webdriver.support.ui import WebDriverWait\n",
    "from selenium.webdriver.support import expected_conditions as EC\n",
    "from selenium.common.exceptions import NoSuchElementException\n",
    "import pandas as pd\n",
    "import time\n",
    "import re"
   ]
  },
  {
   "cell_type": "code",
   "execution_count": 2,
   "id": "aa0ba777",
   "metadata": {},
   "outputs": [],
   "source": [
    "# 크롬을 열고 전체화면으로 전환 인프런 사이트를 엽니다.\n",
    "driver = webdriver.Chrome()\n",
    "driver.maximize_window()"
   ]
  },
  {
   "cell_type": "code",
   "execution_count": 3,
   "id": "459653cf",
   "metadata": {},
   "outputs": [],
   "source": [
    "# 추출할 데이터를 담을 리스트를 생성합니다.\n",
    "#want_list = ['it-programming', 'game-dev-all','data-science', 'it', 'business/task-automation', 'hardware']\n",
    "want_list = ['data-science']\n",
    "list_data = []"
   ]
  },
  {
   "cell_type": "code",
   "execution_count": 4,
   "id": "fb395f89",
   "metadata": {},
   "outputs": [],
   "source": [
    "# 개발/프로그래밍\n",
    "\n",
    "def inflearn_crawling(x):\n",
    "    page = 1\n",
    "    for j in range(1,10000):\n",
    "        title1=driver.find_element(\n",
    "            By.XPATH, f'//*[@id=\"courses_section\"]/div/div/div/main/div[4]/div/div[1]/div/a/div[2]/div[1]').text\n",
    "        driver.get(f'https://www.inflearn.com/courses/{x}?order=seq&page={j}')\n",
    "        time.sleep(1)\n",
    "        \n",
    "        title2=driver.find_element(\n",
    "            By.XPATH, f'//*[@id=\"courses_section\"]/div/div/div/main/div[4]/div/div[1]/div/a/div[2]/div[1]').text\n",
    "        \n",
    "        if page >=2:\n",
    "            if title1 == title2:\n",
    "                break\n",
    "            else:\n",
    "                pass\n",
    "            \n",
    "        page +=1\n",
    "        \n",
    "\n",
    "        for i in range(1,25):\n",
    "                try:\n",
    "                    try:\n",
    "                        driver.find_element(By.XPATH, f'//*[@id=\"courses_section\"]/div/div/div/main/div[4]/div/div[{i}]/div/a/div[2]/span').is_displayed()\n",
    "                    except:\n",
    "                        # 가격\n",
    "                        class_price = driver.find_element(By.XPATH, f'//*[@id=\"courses_section\"]/div/div/div/main/div[4]/div/div[{i}]/div/a/div[2]/div[4]').text\n",
    "\n",
    "                        # 항목 클릭\n",
    "                        try :\n",
    "                            element = WebDriverWait(driver, 3).until(EC.element_to_be_clickable((By.XPATH, f'//*[@id=\"courses_section\"]/div/div/div/main/div[4]/div/div[{i}]/div/a/div[1]/figure/img')))\n",
    "                            driver.execute_script(\"arguments[0].click();\", element)                          \n",
    "                        except :\n",
    "                            element = WebDriverWait(driver, 3).until(EC.element_to_be_clickable((By.XPATH, f'//*[@id=\"courses_section\"]/div/div/div/main/div[4]/div/div[{i}]/div/a/div[1]/section/video')))\n",
    "                            driver.execute_script(\"arguments[0].click();\", element)\n",
    "\n",
    "                        WebDriverWait(driver, 10).until(EC.presence_of_element_located((By.XPATH, '//*[@id=\"main\"]/section/div[1]/div[1]/div/div/div[2]/div[3]/span[2]/strong')))\n",
    "                        \n",
    "                        try:\n",
    "                            driver.find_element(By.XPATH, '//*[@id=\"main\"]/section/div[1]/div[1]/div/div/div[2]/div[2]/h1').is_displayed()\n",
    "                                \n",
    "                        except:\n",
    "                            driver.refresh()\n",
    "                            driver.refresh()\n",
    "                            WebDriverWait(driver, 10).until(EC.presence_of_element_located((By.XPATH, '//*[@id=\"main\"]/section/div[1]/div[1]/div/div/div[2]/div[3]/span[2]/strong')))\n",
    "                        # 강좌명 \n",
    "                        class_name = driver.find_element(By.XPATH, '//*[@id=\"main\"]/section/div[1]/div[1]/div/div/div[2]/div[2]/h1').text\n",
    "                        # 수강평 수\n",
    "                        try:\n",
    "                            driver.find_element(By.XPATH,'//*[@id=\"main\"]/section/div[1]/div[1]/div/div/div[2]/div[3]/a').is_displayed()\n",
    "                            class_grade_count = driver.find_element(By.XPATH, '//*[@id=\"main\"]/section/div[1]/div[1]/div/div/div[2]/div[3]/a').text\n",
    "                        except:\n",
    "                            class_grade_count = '0'\n",
    "                        # 강좌 게시일\n",
    "                        class_update_date = driver.find_element(By.XPATH, '//*[@id=\"main\"]/section/div[3]/div/div/div[1]/div/section[4]/div/span[1]').text\n",
    "                        # 강의생 수\n",
    "                        class_stunum = driver.find_element(By.XPATH, '//*[@id=\"main\"]/section/div[1]/div[1]/div/div/div[2]/div[3]/span[2]/strong').text\n",
    "                        # 평점\n",
    "                        try :\n",
    "                            class_grade = driver.find_element(By.XPATH, '//*[@id=\"main\"]/section/div[1]/div[1]/div/div/div[2]/div[3]/span[1]/strong').text\n",
    "                        except :\n",
    "                            class_grade = '0'\n",
    "                            pass\n",
    "\n",
    "                        # 난이도\n",
    "                        class_level = driver.find_element(By.XPATH, '//*[@id=\"description\"]/h2[1]/strong[1]').text\n",
    "                        \n",
    "                        \n",
    "\n",
    "                        # 강의 총 시간\n",
    "                        if \"D\" in driver.find_element(By.XPATH, '//*[@id=\"main\"]/section/div[3]/div/div/div[2]/aside/div[2]/div/div[1]').text :\n",
    "                            class_time = driver.find_element(By.XPATH, '//*[@id=\"main\"]/section/div[3]/div/div/div[2]/aside/div[2]/div[1]/div[3]/div/div[2]').text\n",
    "\n",
    "                        elif \"신규\" in driver.find_element(By.XPATH, '//*[@id=\"main\"]/section/div[3]/div/div/div[2]/aside/div[2]/div/div[1]').text:\n",
    "                            class_time = driver.find_element(By.XPATH, '//*[@id=\"main\"]/section/div[3]/div/div/div[2]/aside/div[2]/div[1]/div[3]/div/div[2]').text\n",
    "\n",
    "                        elif \"할인\" in driver.find_element(By.XPATH, '//*[@id=\"main\"]/section/div[3]/div/div/div[2]/aside/div[2]/div/div[1]').text:\n",
    "                            class_time = driver.find_element(By.XPATH, '//*[@id=\"main\"]/section/div[3]/div/div/div[2]/aside/div[2]/div[1]/div[3]/div/div[2]').text\n",
    "\n",
    "                        else :\n",
    "                            class_time = driver.find_element(By.XPATH, '//*[@id=\"main\"]/section/div[3]/div/div/div[2]/aside/div[2]/div[1]/div[2]/div/div[2]').text\n",
    "\n",
    "\n",
    "                        list_data.append([class_name,class_stunum, class_price, class_grade,class_grade_count, class_level, class_time, class_update_date])\n",
    "\n",
    "                        driver.back()\n",
    "\n",
    "                        WebDriverWait(driver, 10).until(EC.presence_of_element_located((By.XPATH, '//*[@id=\"courses_section\"]/div/div/div/main/div[4]/div/div[1]/div/a/div[2]/div[1]')))\n",
    "                except NoSuchElementException as e:\n",
    "                    break\n",
    "            \n",
    "\n"
   ]
  },
  {
   "cell_type": "code",
   "execution_count": null,
   "id": "14ea456f",
   "metadata": {
    "scrolled": true
   },
   "outputs": [],
   "source": [
    "# 정의한 함수를 불러와 크롤링을 시작합니다.\n",
    "for i in want_list:\n",
    "    driver.get(f'https://www.inflearn.com/courses/{i}?order=seq')\n",
    "    inflearn_crawling(i)\n",
    "    df = pd.DataFrame(list_data)\n",
    "    df.to_csv(f'{i}카테고리 데이터.csv', index=False)"
   ]
  },
  {
   "cell_type": "code",
   "execution_count": null,
   "id": "9a4588c9",
   "metadata": {
    "scrolled": true
   },
   "outputs": [],
   "source": [
    "#df = pd.DataFrame(list_data)\n",
    "df"
   ]
  }
 ],
 "metadata": {
  "kernelspec": {
   "display_name": "Python 3 (ipykernel)",
   "language": "python",
   "name": "python3"
  },
  "language_info": {
   "codemirror_mode": {
    "name": "ipython",
    "version": 3
   },
   "file_extension": ".py",
   "mimetype": "text/x-python",
   "name": "python",
   "nbconvert_exporter": "python",
   "pygments_lexer": "ipython3",
   "version": "3.11.5"
  }
 },
 "nbformat": 4,
 "nbformat_minor": 5
}
